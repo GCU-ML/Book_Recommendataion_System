{
 "cells": [
  {
   "cell_type": "code",
   "execution_count": 87,
   "metadata": {
    "collapsed": true
   },
   "outputs": [],
   "source": [
    "import itertools\n",
    "import warnings\n",
    "import numpy as np\n",
    "import pandas as pd\n",
    "import matplotlib.pyplot as plt\n",
    "from sklearn.feature_extraction.text import TfidfVectorizer\n",
    "from sklearn.metrics.pairwise import cosine_similarity\n",
    "\n",
    "warnings.filterwarnings('ignore')\n",
    "\n",
    "# Adjusting for Data Frame Output\n",
    "# pd.set_option('display.max_rows', None)\n",
    "# pd.set_option('display.max_columns', None)\n",
    "# pd.set_option('display.max_colwidth', None)"
   ]
  },
  {
   "cell_type": "code",
   "execution_count": 88,
   "metadata": {
    "collapsed": false
   },
   "outputs": [
    {
     "name": "stdout",
     "output_type": "stream",
     "text": [
      "<class 'pandas.core.frame.DataFrame'>\n",
      "RangeIndex: 1149780 entries, 0 to 1149779\n",
      "Data columns (total 3 columns):\n",
      " #   Column       Non-Null Count    Dtype \n",
      "---  ------       --------------    ----- \n",
      " 0   User-ID      1149780 non-null  int64 \n",
      " 1   ISBN         1149780 non-null  object\n",
      " 2   Book-Rating  1149780 non-null  int64 \n",
      "dtypes: int64(2), object(1)\n",
      "memory usage: 26.3+ MB\n"
     ]
    }
   ],
   "source": [
    "# Read BX-Book-Ratings.csv\n",
    "origin_rating = pd.read_csv('dataset/Book reviews/Book reviews/BX-Book-Ratings.csv',sep=';',encoding=\"latin-1\")\n",
    "origin_rating.info()"
   ]
  },
  {
   "cell_type": "code",
   "execution_count": 89,
   "metadata": {
    "collapsed": false
   },
   "outputs": [],
   "source": [
    "# Read BX-Book.csv\n",
    "# origin_books = pd.read_csv('dataset/Book reviews/Book reviews/BX_Books.csv', sep=';', encoding=\"latin-1\")\n",
    "# origin_books.drop(columns=['Year-Of-Publication', 'Publisher',\n",
    "#                   'Image-URL-S', 'Image-URL-M', 'Image-URL-L'], inplace=True)\n",
    "# origin_books.info()"
   ]
  },
  {
   "cell_type": "code",
   "execution_count": 90,
   "metadata": {},
   "outputs": [
    {
     "name": "stdout",
     "output_type": "stream",
     "text": [
      "<class 'pandas.core.frame.DataFrame'>\n",
      "Int64Index: 270170 entries, 0 to 1031174\n",
      "Data columns (total 3 columns):\n",
      " #   Column      Non-Null Count   Dtype \n",
      "---  ------      --------------   ----- \n",
      " 0   Book-Title  270170 non-null  object\n",
      " 1   ISBN        270170 non-null  object\n",
      " 2   Category    270170 non-null  object\n",
      "dtypes: object(3)\n",
      "memory usage: 8.2+ MB\n"
     ]
    }
   ],
   "source": [
    "# Read Preprocessed_data.csv\n",
    "origin_preprocessed = pd.read_csv(\n",
    "    'dataset/Books Data with Category Language and Summary/Preprocessed_data.csv', sep=',', encoding=\"latin-1\")\n",
    "origin_preprocessed = origin_preprocessed.loc[:, ['book_title','isbn', 'Category']]\n",
    "origin_preprocessed.rename(columns={'book_title': 'Book-Title'}, inplace=True)\n",
    "origin_preprocessed.rename(columns={'isbn': 'ISBN'}, inplace=True)\n",
    "origin_preprocessed.drop_duplicates(['ISBN'],inplace=True)\n",
    "origin_preprocessed.info()"
   ]
  },
  {
   "cell_type": "code",
   "execution_count": 91,
   "metadata": {},
   "outputs": [
    {
     "name": "stdout",
     "output_type": "stream",
     "text": [
      "<class 'pandas.core.frame.DataFrame'>\n",
      "Int64Index: 1031175 entries, 0 to 1031174\n",
      "Data columns (total 5 columns):\n",
      " #   Column       Non-Null Count    Dtype \n",
      "---  ------       --------------    ----- \n",
      " 0   User-ID      1031175 non-null  int64 \n",
      " 1   ISBN         1031175 non-null  object\n",
      " 2   Book-Rating  1031175 non-null  int64 \n",
      " 3   Book-Title   1031175 non-null  object\n",
      " 4   Category     1031175 non-null  object\n",
      "dtypes: int64(2), object(3)\n",
      "memory usage: 47.2+ MB\n"
     ]
    }
   ],
   "source": [
    "# Merge 'origin_preprocessed' data and 'origin_rating' data about ISBN\n",
    "user_book_rating=pd.merge(origin_rating,origin_preprocessed,on=\"ISBN\")\n",
    "user_book_rating.info()"
   ]
  },
  {
   "cell_type": "code",
   "execution_count": 92,
   "metadata": {},
   "outputs": [
    {
     "name": "stdout",
     "output_type": "stream",
     "text": [
      "<class 'pandas.core.frame.DataFrame'>\n",
      "Int64Index: 1031175 entries, 0 to 1031174\n",
      "Data columns (total 5 columns):\n",
      " #   Column       Non-Null Count    Dtype \n",
      "---  ------       --------------    ----- \n",
      " 0   User-ID      1031175 non-null  int64 \n",
      " 1   ISBN         1031175 non-null  object\n",
      " 2   Book-Rating  1031175 non-null  int64 \n",
      " 3   Book-Title   1031175 non-null  object\n",
      " 4   Category     1031175 non-null  object\n",
      "dtypes: int64(2), object(3)\n",
      "memory usage: 47.2+ MB\n"
     ]
    }
   ],
   "source": [
    "# Check null data\n",
    "user_book_rating.isnull().sum()\n",
    "\n",
    "# drop null data\n",
    "user_book_rating.dropna(inplace=True)\n",
    "user_book_rating.info()"
   ]
  },
  {
   "cell_type": "code",
   "execution_count": 93,
   "metadata": {},
   "outputs": [
    {
     "name": "stdout",
     "output_type": "stream",
     "text": [
      "<class 'pandas.core.frame.DataFrame'>\n",
      "Int64Index: 234876 entries, 0 to 710818\n",
      "Data columns (total 5 columns):\n",
      " #   Column       Non-Null Count   Dtype \n",
      "---  ------       --------------   ----- \n",
      " 0   User-ID      234876 non-null  int64 \n",
      " 1   ISBN         234876 non-null  object\n",
      " 2   Book-Rating  234876 non-null  int64 \n",
      " 3   Book-Title   234876 non-null  object\n",
      " 4   Category     234876 non-null  object\n",
      "dtypes: int64(2), object(3)\n",
      "memory usage: 10.8+ MB\n"
     ]
    }
   ],
   "source": [
    "# Calculate rating count each ISBN\n",
    "book_ratingCount = (user_book_rating.groupby(by=['ISBN'])\n",
    "                    ['Book-Rating'].\n",
    "                    count().\n",
    "                    reset_index().\n",
    "                    rename(columns={'Book-Rating': 'TotalRatingCount'})\n",
    "                    )\n",
    "\n",
    "user_book_rating=pd.merge(user_book_rating,book_ratingCount,on=\"ISBN\")\n",
    "\n",
    "# Delete data about rating count under 50\n",
    "ratingThreshold = 50\n",
    "user_book_rating = user_book_rating.query('TotalRatingCount >= @ratingThreshold')\n",
    "user_book_rating.drop(columns='TotalRatingCount',inplace=True)\n",
    "user_book_rating.info()"
   ]
  },
  {
   "cell_type": "code",
   "execution_count": 94,
   "metadata": {},
   "outputs": [
    {
     "data": {
      "text/plain": "            ISBN                Book-Title     Category\n0     034545104X      Flesh Tones: A Novel    fiction  \n1     0449006522       Manhattan Hunt Club    fiction  \n2     0553561618             Dark Paradise    fiction  \n3     055356451X                Night Sins    fiction  \n4     0060517794  Little Altars Everywhere    fiction  \n...          ...                       ...          ...\n1447  0449002411              The Presence    fiction  \n1448  044023512X             City of Light    fiction  \n1449  0345450728            Distant Shores    fiction  \n1450  0385720114           The Map of Love    fiction  \n1451  0451180216       Interest of Justice    fiction  \n\n[1452 rows x 3 columns]",
      "text/html": "<div>\n<style scoped>\n    .dataframe tbody tr th:only-of-type {\n        vertical-align: middle;\n    }\n\n    .dataframe tbody tr th {\n        vertical-align: top;\n    }\n\n    .dataframe thead th {\n        text-align: right;\n    }\n</style>\n<table border=\"1\" class=\"dataframe\">\n  <thead>\n    <tr style=\"text-align: right;\">\n      <th></th>\n      <th>ISBN</th>\n      <th>Book-Title</th>\n      <th>Category</th>\n    </tr>\n  </thead>\n  <tbody>\n    <tr>\n      <th>0</th>\n      <td>034545104X</td>\n      <td>Flesh Tones: A Novel</td>\n      <td>fiction</td>\n    </tr>\n    <tr>\n      <th>1</th>\n      <td>0449006522</td>\n      <td>Manhattan Hunt Club</td>\n      <td>fiction</td>\n    </tr>\n    <tr>\n      <th>2</th>\n      <td>0553561618</td>\n      <td>Dark Paradise</td>\n      <td>fiction</td>\n    </tr>\n    <tr>\n      <th>3</th>\n      <td>055356451X</td>\n      <td>Night Sins</td>\n      <td>fiction</td>\n    </tr>\n    <tr>\n      <th>4</th>\n      <td>0060517794</td>\n      <td>Little Altars Everywhere</td>\n      <td>fiction</td>\n    </tr>\n    <tr>\n      <th>...</th>\n      <td>...</td>\n      <td>...</td>\n      <td>...</td>\n    </tr>\n    <tr>\n      <th>1447</th>\n      <td>0449002411</td>\n      <td>The Presence</td>\n      <td>fiction</td>\n    </tr>\n    <tr>\n      <th>1448</th>\n      <td>044023512X</td>\n      <td>City of Light</td>\n      <td>fiction</td>\n    </tr>\n    <tr>\n      <th>1449</th>\n      <td>0345450728</td>\n      <td>Distant Shores</td>\n      <td>fiction</td>\n    </tr>\n    <tr>\n      <th>1450</th>\n      <td>0385720114</td>\n      <td>The Map of Love</td>\n      <td>fiction</td>\n    </tr>\n    <tr>\n      <th>1451</th>\n      <td>0451180216</td>\n      <td>Interest of Justice</td>\n      <td>fiction</td>\n    </tr>\n  </tbody>\n</table>\n<p>1452 rows × 3 columns</p>\n</div>"
     },
     "execution_count": 94,
     "metadata": {},
     "output_type": "execute_result"
    }
   ],
   "source": [
    "# Preprocessing 'Category' column\n",
    "pre_dataframe = user_book_rating.copy()\n",
    "pre_dataframe = pre_dataframe.drop(columns=['User-ID', 'Book-Rating'])\n",
    "pre_dataframe[\"Category\"] = pre_dataframe[\"Category\"].str.replace(\n",
    "    pat=r'[^\\w]', repl=r' ', regex=True)\n",
    "pre_dataframe[\"Category\"] = pre_dataframe[\"Category\"].str.lower()\n",
    "\n",
    "# Strange category value '9' delete\n",
    "delete = pre_dataframe[pre_dataframe['Category'] == '9'].index\n",
    "pre_dataframe.drop(delete, inplace=True)\n",
    "\n",
    "pre_dataframe = pre_dataframe.drop_duplicates(['ISBN'])\n",
    "pre_dataframe = pre_dataframe.reset_index(drop=True)\n",
    "\n",
    "\n",
    "# # Extract Category data\n",
    "category = list(pre_dataframe['Category'].to_list())\n",
    "\n",
    "# # Extract User-ID data\n",
    "isbn = list(set(pre_dataframe['ISBN'].to_list()))\n",
    "\n",
    "pre_dataframe"
   ]
  },
  {
   "cell_type": "code",
   "execution_count": 95,
   "metadata": {},
   "outputs": [
    {
     "data": {
      "text/plain": "['  fiction  ',\n '  fiction  ',\n '  fiction  ',\n '  fiction  ',\n '  fiction  ',\n '  fiction  ',\n '  fiction  ',\n '  fiction  ',\n '  fiction  ',\n '  juvenile fiction  ',\n '  diary fiction  ',\n '  fiction  ',\n '  juvenile fiction  ',\n '  juvenile fiction  ',\n '  juvenile fiction  ',\n '  fiction  ',\n '  fiction  ',\n '  fiction  ',\n '  fiction  ',\n '  fiction  ',\n '  fiction  ',\n '  fiction  ',\n '  business   economics  ',\n '  fiction  ',\n '  fiction  ',\n '  humor  ',\n '  fiction  ',\n '  history  ',\n '  fiction  ',\n '  juvenile fiction  ',\n '  fiction  ',\n '  juvenile fiction  ',\n '  juvenile fiction  ',\n '  juvenile fiction  ',\n '  fiction  ',\n '  fiction  ',\n '  fiction  ',\n '  fiction  ',\n '  fiction  ',\n '  fiction  ',\n '  fiction  ',\n '  fiction  ',\n '  biography   autobiography  ',\n '  fiction  ',\n '  fiction  ',\n '  american wit and humor  ',\n '  fiction  ',\n '  fiction  ',\n '  fiction  ',\n '  fiction  ',\n '  family   relationships  ',\n '  fiction  ',\n '  dent  arthur  fictitious character   ',\n '  fiction  ',\n '  fiction  ',\n '  fiction  ',\n '  fiction  ',\n '  juvenile fiction  ',\n '  biography   autobiography  ',\n '  fiction  ',\n '  fiction  ',\n '  fiction  ',\n '  fiction  ',\n '  fiction  ',\n '  fiction  ',\n '  fiction  ',\n '  fiction  ',\n '  performing arts  ',\n '  biography   autobiography  ',\n '  fiction  ',\n '  fiction  ',\n '  fiction  ',\n '  fiction  ',\n '  fiction  ',\n '  fiction  ',\n '  fiction  ',\n '  fiction  ',\n '  child psychologists  ',\n '  biography   autobiography  ',\n '  medical  ',\n '  child psychologists  ',\n '  fiction  ',\n '  fiction  ',\n '  fiction  ',\n '  fiction  ',\n '  fiction  ',\n '  fiction  ',\n '  fiction  ',\n '  fiction  ',\n '  fiction  ',\n '  fiction  ',\n '  fiction  ',\n '  biography   autobiography  ',\n '  fiction  ',\n '  fiction  ',\n '  fiction  ',\n '  fiction  ',\n '  biography   autobiography  ',\n '  biography   autobiography  ',\n '  fiction  ',\n '  fiction  ',\n '  fiction  ',\n '  juvenile fiction  ',\n '  juvenile fiction  ',\n '  juvenile fiction  ',\n '  fiction  ',\n '  fiction  ',\n '  cherokee indians  ',\n '  fiction  ',\n '  fiction  ',\n '  fiction  ',\n '  fiction  ',\n '  fiction  ',\n '  fiction  ',\n '  chocolate  ',\n '  fiction  ',\n '  fiction  ',\n '  fiction  ',\n '  fiction  ',\n '  fiction  ',\n '  fiction  ',\n '  fiction  ',\n '  fiction  ',\n '  fiction  ',\n '  fiction  ',\n '  fiction  ',\n '  biography   autobiography  ',\n '  fiction  ',\n '  juvenile fiction  ',\n '  humor  ',\n '  fiction  ',\n '  fiction  ',\n '  religion  ',\n '  fiction  ',\n '  fiction  ',\n '  fiction  ',\n '  fiction  ',\n '  fiction  ',\n '  fiction  ',\n '  fiction  ',\n '  fiction  ',\n '  fiction  ',\n '  fiction  ',\n '  detective and mystery stories  ',\n '  fiction  ',\n '  fiction  ',\n '  biography   autobiography  ',\n '  biography   autobiography  ',\n '  business   economics  ',\n '  fiction  ',\n '  fiction  ',\n '  artificial intelligence  ',\n '  fiction  ',\n '  fiction  ',\n '  fiction  ',\n '  fiction  ',\n '  fiction  ',\n '  fiction  ',\n '  juvenile fiction  ',\n '  fiction  ',\n '  fiction  ',\n '  fiction  ',\n '  california  ',\n '  fiction  ',\n '  fiction  ',\n '  fiction  ',\n '  fiction  ',\n '  fiction  ',\n '  fiction  ',\n '  fiction  ',\n '  fiction  ',\n '  fiction  ',\n '  fiction  ',\n '  fiction  ',\n '  california  ',\n '  fiction  ',\n '  fiction  ',\n '  fiction  ',\n '  fiction  ',\n '  fiction  ',\n '  fiction  ',\n '  domestic fiction  ',\n '  fiction  ',\n '  juvenile fiction  ',\n '  fiction  ',\n '  fiction  ',\n '  fiction  ',\n '  fiction  ',\n '  fiction  ',\n '  fiction  ',\n '  fiction  ',\n '  fiction  ',\n '  fiction  ',\n '  fiction  ',\n '  fiction  ',\n '  fiction  ',\n '  history  ',\n '  history  ',\n '  body  mind   spirit  ',\n '  fiction  ',\n '  fiction  ',\n '  fiction  ',\n '  fiction  ',\n '  fiction  ',\n '  self help  ',\n '  fiction  ',\n '  fiction  ',\n '  fiction  ',\n '  fiction  ',\n '  fiction  ',\n '  fiction  ',\n '  fiction  ',\n '  fiction  ',\n '  fiction  ',\n '  fiction  ',\n '  fiction  ',\n '  fiction  ',\n '  juvenile fiction  ',\n '  fiction  ',\n '  fiction  ',\n '  fiction  ',\n '  fiction  ',\n '  fiction  ',\n '  fiction  ',\n '  fiction  ',\n '  fiction  ',\n '  fiction  ',\n '  fiction  ',\n '  fiction  ',\n '  fiction  ',\n '  fiction  ',\n '  fiction  ',\n '  pets  ',\n '  fiction  ',\n '  fiction  ',\n '  fiction  ',\n '  juvenile nonfiction  ',\n '  fiction  ',\n '  fiction  ',\n '  fiction  ',\n '  fiction  ',\n '  juvenile fiction  ',\n '  fiction  ',\n '  fiction  ',\n '  fiction  ',\n '  fiction  ',\n '  fiction  ',\n '  fiction  ',\n '  fiction  ',\n '  fiction  ',\n '  history  ',\n '  fiction  ',\n '  fiction  ',\n '  fiction  ',\n '  fiction  ',\n '  fiction  ',\n '  juvenile fiction  ',\n '  fiction  ',\n '  fiction  ',\n '  fiction  ',\n '  fiction  ',\n '  fiction  ',\n '  american fiction  ',\n '  humor  ',\n '  fiction  ',\n '  fiction  ',\n '  fiction  ',\n '  intelligence service  ',\n '  fiction  ',\n '  fiction  ',\n '  fiction  ',\n '  fiction  ',\n '  fiction  ',\n '  fiction  ',\n '  fiction  ',\n '  fiction  ',\n '  juvenile fiction  ',\n '  fiction  ',\n '  fiction  ',\n '  fiction  ',\n '  fiction  ',\n '  fiction  ',\n '  fiction  ',\n '  fiction  ',\n '  fiction  ',\n '  fiction  ',\n '  fiction  ',\n '  fiction  ',\n '  british and irish fiction  fictional works by one author    ',\n '  fiction  ',\n '  fiction  ',\n '  fiction  ',\n '  history  ',\n '  fiction  ',\n '  humor  ',\n '  fiction  ',\n '  fiction  ',\n '  fiction  ',\n '  fiction  ',\n '  fiction  ',\n '  juvenile fiction  ',\n '  fiction  ',\n '  adulteresses  ',\n '  fiction  ',\n '  biography   autobiography  ',\n '  fiction  ',\n '  fiction  ',\n '  fiction  ',\n '  fiction  ',\n '  fiction  ',\n '  aircraft accidents  ',\n '  fiction  ',\n '  biography   autobiography  ',\n '  fiction  ',\n '  fiction  ',\n '  fiction  ',\n '  fiction  ',\n '  fiction  ',\n '  fiction  ',\n '  humor  ',\n '  fiction  ',\n '  history  ',\n '  humor  ',\n '  fiction  ',\n '  literary collections  ',\n '  fiction  ',\n '  fiction  ',\n '  fiction  ',\n '  biography   autobiography  ',\n '  fiction  ',\n '  fiction  ',\n '  fiction  ',\n '  fiction  ',\n '  fiction  ',\n '  fiction  ',\n '  fiction  ',\n '  fiction  ',\n '  fiction  ',\n '  fiction  ',\n '  fiction  ',\n '  fiction  ',\n '  true crime  ',\n '  fiction  ',\n '  fiction  ',\n '  fiction  ',\n '  fiction  ',\n '  fiction  ',\n '  fiction  ',\n '  fiction  ',\n '  fiction  ',\n '  fiction  ',\n '  fiction  ',\n '  fiction  ',\n '  biography   autobiography  ',\n '  biography   autobiography  ',\n '  self help  ',\n '  fiction  ',\n '  fiction  ',\n '  fiction  ',\n '  fiction  ',\n '  biography   autobiography  ',\n '  fiction  ',\n '  fiction  ',\n '  american fiction  ',\n '  fiction  ',\n '  juvenile fiction  ',\n '  fiction  ',\n '  fiction  ',\n '  fiction  ',\n '  fiction  ',\n '  fiction  ',\n '  fiction  ',\n '  fiction  ',\n '  fiction  ',\n '  fiction  ',\n '  fiction  ',\n '  fiction  ',\n '  biography   autobiography  ',\n '  fiction  ',\n '  fiction  ',\n '  fiction  ',\n '  african american men  ',\n '  fiction  ',\n '  fiction  ',\n '  fiction  ',\n '  fiction  ',\n '  fiction  ',\n '  fiction  ',\n '  fiction  ',\n '  fiction  ',\n '  juvenile fiction  ',\n '  fiction  ',\n '  fiction  ',\n '  fiction  ',\n '  fiction  ',\n '  fiction  ',\n '  fiction  ',\n '  fiction  ',\n '  fiction  ',\n '  materia medica  ',\n '  fiction  ',\n '  fiction  ',\n '  fiction  ',\n '  fiction  ',\n '  fiction  ',\n '  fiction  ',\n '  true crime  ',\n '  london  england   ',\n '  fiction  ',\n '  fiction  ',\n '  fiction  ',\n '  crime  ',\n '  fiction  ',\n '  fiction  ',\n '  fiction  ',\n '  fiction  ',\n '  fiction  ',\n '  fiction  ',\n '  fiction  ',\n '  fiction  ',\n '  fiction  ',\n '  fiction  ',\n '  fiction  ',\n '  fiction  ',\n '  biography   autobiography  ',\n '  fiction  ',\n '  fiction  ',\n '  fiction  ',\n '  fiction  ',\n '  fiction  ',\n '  fiction  ',\n '  fiction  ',\n '  fiction  ',\n '  fiction  ',\n '  fiction  ',\n '  fiction  ',\n '  fiction  ',\n '  fiction  ',\n '  fiction  ',\n '  fiction  ',\n '  fiction  ',\n '  fiction  ',\n '  fiction  ',\n '  fiction  ',\n '  fiction  ',\n '  self help  ',\n '  fiction  ',\n '  fiction  ',\n '  fiction  ',\n '  biography   autobiography  ',\n '  fiction  ',\n '  african american men  ',\n '  fiction  ',\n '  fiction  ',\n '  fiction  ',\n '  juvenile fiction  ',\n '  true crime  ',\n '  fiction  ',\n '  fiction  ',\n '  fiction  ',\n '  fiction  ',\n '  fiction  ',\n '  fiction  ',\n '  england  ',\n '  fiction  ',\n '  fiction  ',\n '  juvenile fiction  ',\n '  juvenile fiction  ',\n '  juvenile fiction  ',\n '  fiction  ',\n '  fiction  ',\n '  juvenile fiction  ',\n '  juvenile fiction  ',\n '  fiction  ',\n '  fiction  ',\n '  fiction  ',\n '  fiction  ',\n '  horror tales  ',\n '  fiction  ',\n '  fiction  ',\n '  trials  murder   ',\n '  fiction  ',\n '  fiction  ',\n '  fiction  ',\n '  fiction  ',\n '  fiction  ',\n '  fiction  ',\n '  fiction  ',\n '  juvenile fiction  ',\n '  health   fitness  ',\n '  fiction  ',\n '  middle west  ',\n '  fiction  ',\n '  fiction  ',\n '  juvenile fiction  ',\n '  fiction  ',\n '  fiction  ',\n '  fiction  ',\n '  fiction  ',\n '  fiction  ',\n '  fiction  ',\n '  fiction  ',\n '  fiction  ',\n '  fiction  ',\n '  fiction  ',\n '  fiction  ',\n '  fiction  ',\n '  fiction  ',\n '  fiction  ',\n '  fiction  ',\n '  fiction  ',\n '  fiction  ',\n '  fiction  ',\n '  british  ',\n '  fiction  ',\n '  fiction  ',\n '  fiction  ',\n '  fiction  ',\n '  fiction  ',\n '  fiction  ',\n '  fiction  ',\n '  fiction  ',\n '  fiction  ',\n '  fiction  ',\n '  fiction  ',\n '  fiction  ',\n '  fiction  ',\n '  fiction  ',\n '  businesswomen  ',\n '  biography   autobiography  ',\n '  automobiles  ',\n '  fiction  ',\n '  fiction  ',\n '  fiction  ',\n '  fiction  ',\n '  fiction  ',\n '  fiction  ',\n '  abortion  ',\n '  fiction  ',\n '  fiction  ',\n '  fiction  ',\n '  fiction  ',\n '  americans  ',\n '  fiction  ',\n '  fiction  ',\n '  fiction  ',\n '  humor  ',\n '  fiction  ',\n '  juvenile fiction  ',\n '  fiction  ',\n '  fiction  ',\n '  fiction  ',\n '  fiction  ',\n '  fiction  ',\n '  fiction  ',\n '  fiction  ',\n '  fiction  ',\n '  fiction  ',\n '  fiction  ',\n '  juvenile fiction  ',\n '  fiction  ',\n '  fiction  ',\n '  fiction  ',\n '  fiction  ',\n '  fiction  ',\n '  fiction  ',\n '  fiction  ',\n '  fiction  ',\n '  fiction  ',\n '  fiction  ',\n '  fiction  ',\n '  fiction  ',\n '  domestic fiction  ',\n '  fiction  ',\n '  fiction  ',\n '  religion  ',\n '  fiction  ',\n '  fiction  ',\n '  fiction  ',\n '  fiction  ',\n '  religion  ',\n '  fiction  ',\n '  fiction  ',\n '  fiction  ',\n '  fiction  ',\n '  fiction  ',\n '  fiction  ',\n '  fiction  ',\n '  fiction  ',\n '  fathers and sons  ',\n '  fiction  ',\n '  fiction  ',\n '  fiction  ',\n '  fiction  ',\n '  fiction  ',\n '  fiction  ',\n '  arctic regions  ',\n '  biography   autobiography  ',\n '  diary fiction  ',\n '  juvenile fiction  ',\n '  fiction  ',\n '  fiction  ',\n '  fiction  ',\n '  fiction  ',\n '  fiction  ',\n '  fiction  ',\n '  fiction  ',\n '  fiction  ',\n '  fiction  ',\n '  fiction  ',\n '  fiction  ',\n '  fiction  ',\n '  bildungsromans  ',\n '  fiction  ',\n '  fiction  ',\n '  fiction  ',\n '  fiction  ',\n '  fiction  ',\n '  fiction  ',\n '  fiction  ',\n '  fiction  ',\n '  fiction  ',\n '  biography   autobiography  ',\n '  fiction  ',\n '  fiction  ',\n '  fiction  ',\n '  fiction  ',\n '  self help  ',\n '  fiction  ',\n '  fiction  ',\n '  fiction  ',\n '  fiction  ',\n '  conduct of life  ',\n '  fiction  ',\n '  fiction  ',\n '  fiction  ',\n '  fiction  ',\n '  history  ',\n '  fiction  ',\n '  fiction  ',\n '  fiction  ',\n '  fiction  ',\n '  americans  ',\n '  fiction  ',\n '  fiction  ',\n '  fiction  ',\n '  fiction  ',\n '  fiction  ',\n '  fiction  ',\n '  fiction  ',\n '  fiction  ',\n '  fiction  ',\n '  fiction  ',\n '  fiction  ',\n '  fiction  ',\n '  fiction  ',\n '  fiction  ',\n '  biography   autobiography  ',\n '  fiction  ',\n '  fiction  ',\n '  humor  ',\n '  fiction  ',\n '  fiction  ',\n '  fiction  ',\n '  fiction  ',\n '  fiction  ',\n '  juvenile fiction  ',\n '  adolescence  ',\n '  juvenile fiction  ',\n '  juvenile fiction  ',\n '  fiction  ',\n '  fiction  ',\n '  dune  imaginary place   ',\n '  fiction  ',\n '  fiction  ',\n '  fiction  ',\n '  fiction  ',\n '  fiction  ',\n '  fiction  ',\n '  fiction  ',\n '  juvenile fiction  ',\n '  fiction  ',\n '  fiction  ',\n '  aerospace engineers  ',\n '  fiction  ',\n '  fiction  ',\n '  fiction  ',\n '  businessmen  ',\n '  fiction  ',\n '  fiction  ',\n '  nature  ',\n '  fiction  ',\n '  fiction  ',\n '  fiction  ',\n '  fiction  ',\n '  business   economics  ',\n '  rapture  christian eschatology   ',\n '  humor  ',\n '  fiction  ',\n '  fiction  ',\n '  fiction  ',\n '  fiction  ',\n '  fiction  ',\n '  fiction  ',\n '  fiction  ',\n '  fiction  ',\n '  biography   autobiography  ',\n '  fiction  ',\n '  biography   autobiography  ',\n '  biography   autobiography  ',\n '  fiction  ',\n '  fiction  ',\n '  political science  ',\n '  juvenile fiction  ',\n '  juvenile fiction  ',\n '  fiction  ',\n '  fiction  ',\n '  fiction  ',\n '  fiction  ',\n '  fiction  ',\n '  fiction  ',\n '  community colleges  ',\n '  fiction  ',\n '  fiction  ',\n '  fiction  ',\n '  fiction  ',\n '  humor  ',\n '  fiction  ',\n '  fiction  ',\n '  fiction  ',\n '  fiction  ',\n '  fiction  ',\n '  fiction  ',\n '  fiction  ',\n '  biography   autobiography  ',\n '  fiction  ',\n '  fiction  ',\n '  self help  ',\n '  fiction  ',\n '  fiction  ',\n '  fiction  ',\n '  ryan  jack  fictitious character   ',\n '  fiction  ',\n '  fiction  ',\n '  fiction  ',\n '  fiction  ',\n '  fiction  ',\n '  body  mind   spirit  ',\n '  fiction  ',\n '  fiction  ',\n '  fiction  ',\n '  continental european fiction  fictional works by one author    ',\n '  fiction  ',\n '  california  ',\n '  fiction  ',\n '  fiction  ',\n '  fiction  ',\n '  self help  ',\n '  fiction  ',\n '  fiction  ',\n '  juvenile fiction  ',\n '  fiction  ',\n '  fiction  ',\n '  fiction  ',\n '  fiction  ',\n '  character  ',\n '  geishas  ',\n '  humor  ',\n '  fiction  ',\n '  biography   autobiography  ',\n '  fiction  ',\n '  fiction  ',\n '  fiction  ',\n '  business   economics  ',\n '  fiction  ',\n '  fiction  ',\n '  fiction  ',\n '  brewing  ',\n '  fiction  ',\n '  fiction  ',\n '  history  ',\n '  fiction  ',\n '  fiction  ',\n '  fiction  ',\n '  fiction  ',\n '  fiction  ',\n '  fiction  ',\n '  fiction  ',\n '  fiction  ',\n '  fiction  ',\n '  england  ',\n '  law  ',\n '  juvenile fiction  ',\n '  fiction  ',\n '  fiction  ',\n '  fiction  ',\n '  fiction  ',\n '  fiction  ',\n '  fiction  ',\n '  fiction  ',\n '  fiction  ',\n '  fiction  ',\n '  fiction  ',\n '  family   relationships  ',\n '  health   fitness  ',\n '  fiction  ',\n '  fiction  ',\n '  travel  ',\n '  fiction  ',\n '  fiction  ',\n '  fiction  ',\n '  fiction  ',\n '  fiction  ',\n '  biography   autobiography  ',\n '  fiction  ',\n '  fiction  ',\n '  fiction  ',\n '  fiction  ',\n '  fiction  ',\n '  fiction  ',\n '  fiction  ',\n '  fiction  ',\n '  fiction  ',\n '  fiction  ',\n '  fiction  ',\n '  fiction  ',\n '  true crime  ',\n '  fiction  ',\n '  fiction  ',\n '  fiction  ',\n '  fiction  ',\n '  fiction  ',\n '  fiction  ',\n '  fiction  ',\n '  fiction  ',\n '  fiction  ',\n '  fiction  ',\n '  fiction  ',\n '  fiction  ',\n '  fiction  ',\n '  fiction  ',\n '  fiction  ',\n '  fiction  ',\n '  fiction  ',\n '  fiction  ',\n '  fiction  ',\n '  fiction  ',\n '  dune  imaginary place   ',\n '  intelligence service  ',\n '  fiction  ',\n '  fiction  ',\n '  fiction  ',\n '  humor  ',\n '  fiction  ',\n '  fiction  ',\n '  fiction  ',\n '  fiction  ',\n '  fiction  ',\n '  fiction  ',\n '  fiction  ',\n '  biography   autobiography  ',\n '  juvenile fiction  ',\n '  fiction  ',\n '  fiction  ',\n '  fiction  ',\n '  fiction  ',\n '  body  mind   spirit  ',\n '  fiction  ',\n '  juvenile fiction  ',\n '  fiction  ',\n '  fiction  ',\n '  fiction  ',\n '  fiction  ',\n '  fiction  ',\n '  fiction  ',\n '  fiction  ',\n '  fiction  ',\n '  fiction  ',\n '  fiction  ',\n '  fiction  ',\n '  fiction  ',\n '  fiction  ',\n '  fiction  ',\n '  fiction  ',\n '  fiction  ',\n '  true crime  ',\n '  divorced women  ',\n '  fiction  ',\n '  foreign language study  ',\n '  fiction  ',\n '  fiction  ',\n '  biography   autobiography  ',\n '  fiction  ',\n '  fiction  ',\n '  fiction  ',\n '  fiction  ',\n '  fiction  ',\n '  fiction  ',\n '  boys  ',\n '  fiction  ',\n '  fiction  ',\n '  fiction  ',\n '  fiction  ',\n '  fiction  ',\n '  fiction  ',\n '  fiction  ',\n '  fiction  ',\n '  fiction  ',\n '  fiction  ',\n '  fiction  ',\n '  actors  ',\n '  fiction  ',\n '  juvenile fiction  ',\n '  humor  ',\n '  juvenile nonfiction  ',\n '  biography   autobiography  ',\n '  fiction  ',\n '  fiction  ',\n '  fiction  ',\n '  fiction  ',\n '  adultery  ',\n '  fiction  ',\n '  fiction  ',\n '  fiction  ',\n '  fiction  ',\n '  fiction  ',\n '  fiction  ',\n '  fiction  ',\n '  fiction  ',\n '  interpersonal relations  ',\n '  fiction  ',\n '  fiction  ',\n '  fiction  ',\n '  fiction  ',\n '  fiction  ',\n '  fiction  ',\n '  fiction  ',\n '  juvenile fiction  ',\n '  fiction  ',\n '  fiction  ',\n '  domestic fiction  ',\n '  fiction  ',\n '  fiction  ',\n '  fiction  ',\n '  fiction  ',\n '  fiction  ',\n '  fiction  ',\n '  juvenile fiction  ',\n '  fiction  ',\n '  self help  ',\n '  fiction  ',\n '  juvenile fiction  ',\n '  juvenile fiction  ',\n '  fiction  ',\n '  fiction  ',\n '  fiction  ',\n '  fiction  ',\n '  fiction  ',\n '  fiction  ',\n '  fiction  ',\n '  fiction  ',\n '  fiction  ',\n '  fiction  ',\n '  fiction  ',\n '  fiction  ',\n '  fiction  ',\n '  fiction  ',\n '  fiction  ',\n '  fiction  ',\n '  fiction  ',\n '  fiction  ',\n '  fiction  ',\n '  fiction  ',\n '  fiction  ',\n '  fiction  ',\n '  fiction  ',\n '  fiction  ',\n '  fiction  ',\n '  fiction  ',\n '  fiction  ',\n '  fiction  ',\n '  biography   autobiography  ',\n '  fiction  ',\n '  fiction  ',\n '  fiction  ',\n '  fiction  ',\n '  fiction  ',\n '  fiction  ',\n '  travel  ',\n '  fiction  ',\n '  fiction  ',\n '  fiction  ',\n '  fiction  ',\n '  fiction  ',\n '  fiction  ',\n '  fiction  ',\n '  fiction  ',\n '  fiction  ',\n '  fiction  ',\n '  fiction  ',\n ...]"
     },
     "execution_count": 95,
     "metadata": {},
     "output_type": "execute_result"
    }
   ],
   "source": [
    "df = pre_dataframe.copy()\n",
    "category"
   ]
  },
  {
   "cell_type": "code",
   "execution_count": 108,
   "metadata": {},
   "outputs": [
    {
     "data": {
      "text/plain": "{'fiction': 15,\n 'juvenile': 24,\n 'business': 6,\n 'economics': 12,\n 'humor': 21,\n 'history': 20,\n 'biography': 4,\n 'autobiography': 3,\n 'american': 1,\n 'family': 14,\n 'relationships': 28,\n 'fictitious': 16,\n 'character': 8,\n 'religion': 29,\n 'intelligence': 23,\n 'california': 7,\n 'domestic': 10,\n 'body': 5,\n 'mind': 26,\n 'spirit': 31,\n 'self': 30,\n 'help': 19,\n 'literary': 25,\n 'true': 33,\n 'crime': 9,\n 'african': 0,\n 'england': 13,\n 'health': 18,\n 'fitness': 17,\n 'americans': 2,\n 'dune': 11,\n 'imaginary': 22,\n 'place': 27,\n 'travel': 32}"
     },
     "execution_count": 108,
     "metadata": {},
     "output_type": "execute_result"
    }
   ],
   "source": [
    "vect = TfidfVectorizer(min_df=3, stop_words='english')\n",
    "transformed_weights = vect.fit_transform(df['Category'])\n",
    "vect.vocabulary_"
   ]
  },
  {
   "cell_type": "code",
   "execution_count": 119,
   "outputs": [
    {
     "data": {
      "text/plain": "            african  american  americans  autobiography  biography  body  \\\n034545104X      0.0       0.0        0.0            0.0        0.0   0.0   \n0449006522      0.0       0.0        0.0            0.0        0.0   0.0   \n0553561618      0.0       0.0        0.0            0.0        0.0   0.0   \n055356451X      0.0       0.0        0.0            0.0        0.0   0.0   \n0060517794      0.0       0.0        0.0            0.0        0.0   0.0   \n...             ...       ...        ...            ...        ...   ...   \n0449002411      0.0       0.0        0.0            0.0        0.0   0.0   \n044023512X      0.0       0.0        0.0            0.0        0.0   0.0   \n0345450728      0.0       0.0        0.0            0.0        0.0   0.0   \n0385720114      0.0       0.0        0.0            0.0        0.0   0.0   \n0451180216      0.0       0.0        0.0            0.0        0.0   0.0   \n\n            business  california  character  crime  ...  juvenile  literary  \\\n034545104X       0.0         0.0        0.0    0.0  ...       0.0       0.0   \n0449006522       0.0         0.0        0.0    0.0  ...       0.0       0.0   \n0553561618       0.0         0.0        0.0    0.0  ...       0.0       0.0   \n055356451X       0.0         0.0        0.0    0.0  ...       0.0       0.0   \n0060517794       0.0         0.0        0.0    0.0  ...       0.0       0.0   \n...              ...         ...        ...    ...  ...       ...       ...   \n0449002411       0.0         0.0        0.0    0.0  ...       0.0       0.0   \n044023512X       0.0         0.0        0.0    0.0  ...       0.0       0.0   \n0345450728       0.0         0.0        0.0    0.0  ...       0.0       0.0   \n0385720114       0.0         0.0        0.0    0.0  ...       0.0       0.0   \n0451180216       0.0         0.0        0.0    0.0  ...       0.0       0.0   \n\n            mind  place  relationships  religion  self  spirit  travel  true  \n034545104X   0.0    0.0            0.0       0.0   0.0     0.0     0.0   0.0  \n0449006522   0.0    0.0            0.0       0.0   0.0     0.0     0.0   0.0  \n0553561618   0.0    0.0            0.0       0.0   0.0     0.0     0.0   0.0  \n055356451X   0.0    0.0            0.0       0.0   0.0     0.0     0.0   0.0  \n0060517794   0.0    0.0            0.0       0.0   0.0     0.0     0.0   0.0  \n...          ...    ...            ...       ...   ...     ...     ...   ...  \n0449002411   0.0    0.0            0.0       0.0   0.0     0.0     0.0   0.0  \n044023512X   0.0    0.0            0.0       0.0   0.0     0.0     0.0   0.0  \n0345450728   0.0    0.0            0.0       0.0   0.0     0.0     0.0   0.0  \n0385720114   0.0    0.0            0.0       0.0   0.0     0.0     0.0   0.0  \n0451180216   0.0    0.0            0.0       0.0   0.0     0.0     0.0   0.0  \n\n[1452 rows x 34 columns]",
      "text/html": "<div>\n<style scoped>\n    .dataframe tbody tr th:only-of-type {\n        vertical-align: middle;\n    }\n\n    .dataframe tbody tr th {\n        vertical-align: top;\n    }\n\n    .dataframe thead th {\n        text-align: right;\n    }\n</style>\n<table border=\"1\" class=\"dataframe\">\n  <thead>\n    <tr style=\"text-align: right;\">\n      <th></th>\n      <th>african</th>\n      <th>american</th>\n      <th>americans</th>\n      <th>autobiography</th>\n      <th>biography</th>\n      <th>body</th>\n      <th>business</th>\n      <th>california</th>\n      <th>character</th>\n      <th>crime</th>\n      <th>...</th>\n      <th>juvenile</th>\n      <th>literary</th>\n      <th>mind</th>\n      <th>place</th>\n      <th>relationships</th>\n      <th>religion</th>\n      <th>self</th>\n      <th>spirit</th>\n      <th>travel</th>\n      <th>true</th>\n    </tr>\n  </thead>\n  <tbody>\n    <tr>\n      <th>034545104X</th>\n      <td>0.0</td>\n      <td>0.0</td>\n      <td>0.0</td>\n      <td>0.0</td>\n      <td>0.0</td>\n      <td>0.0</td>\n      <td>0.0</td>\n      <td>0.0</td>\n      <td>0.0</td>\n      <td>0.0</td>\n      <td>...</td>\n      <td>0.0</td>\n      <td>0.0</td>\n      <td>0.0</td>\n      <td>0.0</td>\n      <td>0.0</td>\n      <td>0.0</td>\n      <td>0.0</td>\n      <td>0.0</td>\n      <td>0.0</td>\n      <td>0.0</td>\n    </tr>\n    <tr>\n      <th>0449006522</th>\n      <td>0.0</td>\n      <td>0.0</td>\n      <td>0.0</td>\n      <td>0.0</td>\n      <td>0.0</td>\n      <td>0.0</td>\n      <td>0.0</td>\n      <td>0.0</td>\n      <td>0.0</td>\n      <td>0.0</td>\n      <td>...</td>\n      <td>0.0</td>\n      <td>0.0</td>\n      <td>0.0</td>\n      <td>0.0</td>\n      <td>0.0</td>\n      <td>0.0</td>\n      <td>0.0</td>\n      <td>0.0</td>\n      <td>0.0</td>\n      <td>0.0</td>\n    </tr>\n    <tr>\n      <th>0553561618</th>\n      <td>0.0</td>\n      <td>0.0</td>\n      <td>0.0</td>\n      <td>0.0</td>\n      <td>0.0</td>\n      <td>0.0</td>\n      <td>0.0</td>\n      <td>0.0</td>\n      <td>0.0</td>\n      <td>0.0</td>\n      <td>...</td>\n      <td>0.0</td>\n      <td>0.0</td>\n      <td>0.0</td>\n      <td>0.0</td>\n      <td>0.0</td>\n      <td>0.0</td>\n      <td>0.0</td>\n      <td>0.0</td>\n      <td>0.0</td>\n      <td>0.0</td>\n    </tr>\n    <tr>\n      <th>055356451X</th>\n      <td>0.0</td>\n      <td>0.0</td>\n      <td>0.0</td>\n      <td>0.0</td>\n      <td>0.0</td>\n      <td>0.0</td>\n      <td>0.0</td>\n      <td>0.0</td>\n      <td>0.0</td>\n      <td>0.0</td>\n      <td>...</td>\n      <td>0.0</td>\n      <td>0.0</td>\n      <td>0.0</td>\n      <td>0.0</td>\n      <td>0.0</td>\n      <td>0.0</td>\n      <td>0.0</td>\n      <td>0.0</td>\n      <td>0.0</td>\n      <td>0.0</td>\n    </tr>\n    <tr>\n      <th>0060517794</th>\n      <td>0.0</td>\n      <td>0.0</td>\n      <td>0.0</td>\n      <td>0.0</td>\n      <td>0.0</td>\n      <td>0.0</td>\n      <td>0.0</td>\n      <td>0.0</td>\n      <td>0.0</td>\n      <td>0.0</td>\n      <td>...</td>\n      <td>0.0</td>\n      <td>0.0</td>\n      <td>0.0</td>\n      <td>0.0</td>\n      <td>0.0</td>\n      <td>0.0</td>\n      <td>0.0</td>\n      <td>0.0</td>\n      <td>0.0</td>\n      <td>0.0</td>\n    </tr>\n    <tr>\n      <th>...</th>\n      <td>...</td>\n      <td>...</td>\n      <td>...</td>\n      <td>...</td>\n      <td>...</td>\n      <td>...</td>\n      <td>...</td>\n      <td>...</td>\n      <td>...</td>\n      <td>...</td>\n      <td>...</td>\n      <td>...</td>\n      <td>...</td>\n      <td>...</td>\n      <td>...</td>\n      <td>...</td>\n      <td>...</td>\n      <td>...</td>\n      <td>...</td>\n      <td>...</td>\n      <td>...</td>\n    </tr>\n    <tr>\n      <th>0449002411</th>\n      <td>0.0</td>\n      <td>0.0</td>\n      <td>0.0</td>\n      <td>0.0</td>\n      <td>0.0</td>\n      <td>0.0</td>\n      <td>0.0</td>\n      <td>0.0</td>\n      <td>0.0</td>\n      <td>0.0</td>\n      <td>...</td>\n      <td>0.0</td>\n      <td>0.0</td>\n      <td>0.0</td>\n      <td>0.0</td>\n      <td>0.0</td>\n      <td>0.0</td>\n      <td>0.0</td>\n      <td>0.0</td>\n      <td>0.0</td>\n      <td>0.0</td>\n    </tr>\n    <tr>\n      <th>044023512X</th>\n      <td>0.0</td>\n      <td>0.0</td>\n      <td>0.0</td>\n      <td>0.0</td>\n      <td>0.0</td>\n      <td>0.0</td>\n      <td>0.0</td>\n      <td>0.0</td>\n      <td>0.0</td>\n      <td>0.0</td>\n      <td>...</td>\n      <td>0.0</td>\n      <td>0.0</td>\n      <td>0.0</td>\n      <td>0.0</td>\n      <td>0.0</td>\n      <td>0.0</td>\n      <td>0.0</td>\n      <td>0.0</td>\n      <td>0.0</td>\n      <td>0.0</td>\n    </tr>\n    <tr>\n      <th>0345450728</th>\n      <td>0.0</td>\n      <td>0.0</td>\n      <td>0.0</td>\n      <td>0.0</td>\n      <td>0.0</td>\n      <td>0.0</td>\n      <td>0.0</td>\n      <td>0.0</td>\n      <td>0.0</td>\n      <td>0.0</td>\n      <td>...</td>\n      <td>0.0</td>\n      <td>0.0</td>\n      <td>0.0</td>\n      <td>0.0</td>\n      <td>0.0</td>\n      <td>0.0</td>\n      <td>0.0</td>\n      <td>0.0</td>\n      <td>0.0</td>\n      <td>0.0</td>\n    </tr>\n    <tr>\n      <th>0385720114</th>\n      <td>0.0</td>\n      <td>0.0</td>\n      <td>0.0</td>\n      <td>0.0</td>\n      <td>0.0</td>\n      <td>0.0</td>\n      <td>0.0</td>\n      <td>0.0</td>\n      <td>0.0</td>\n      <td>0.0</td>\n      <td>...</td>\n      <td>0.0</td>\n      <td>0.0</td>\n      <td>0.0</td>\n      <td>0.0</td>\n      <td>0.0</td>\n      <td>0.0</td>\n      <td>0.0</td>\n      <td>0.0</td>\n      <td>0.0</td>\n      <td>0.0</td>\n    </tr>\n    <tr>\n      <th>0451180216</th>\n      <td>0.0</td>\n      <td>0.0</td>\n      <td>0.0</td>\n      <td>0.0</td>\n      <td>0.0</td>\n      <td>0.0</td>\n      <td>0.0</td>\n      <td>0.0</td>\n      <td>0.0</td>\n      <td>0.0</td>\n      <td>...</td>\n      <td>0.0</td>\n      <td>0.0</td>\n      <td>0.0</td>\n      <td>0.0</td>\n      <td>0.0</td>\n      <td>0.0</td>\n      <td>0.0</td>\n      <td>0.0</td>\n      <td>0.0</td>\n      <td>0.0</td>\n    </tr>\n  </tbody>\n</table>\n<p>1452 rows × 34 columns</p>\n</div>"
     },
     "execution_count": 119,
     "metadata": {},
     "output_type": "execute_result"
    }
   ],
   "source": [
    "attribute_df = pd.DataFrame(transformed_weights.toarray(), columns=vect.get_feature_names_out(),\n",
    "                            index=pre_dataframe['ISBN'].tolist())\n",
    "attribute_df\n",
    "# attribute_df.sum()"
   ],
   "metadata": {
    "collapsed": false,
    "pycharm": {
     "name": "#%%\n"
    }
   }
  },
  {
   "cell_type": "code",
   "execution_count": 115,
   "outputs": [],
   "source": [
    "# Cosine similarity (query, documents)\n",
    "similarity = cosine_similarity(transformed_weights, transformed_weights)\n",
    "\n",
    "# Construct a reverse map of indices and book title.\n",
    "indices_code = pd.Series(df.index,\n",
    "                    index=df['Book-Title']).drop_duplicates()"
   ],
   "metadata": {
    "collapsed": false,
    "pycharm": {
     "name": "#%%\n"
    }
   }
  },
  {
   "cell_type": "code",
   "execution_count": 116,
   "outputs": [],
   "source": [
    "def get_recommendations(book_title, cosine_sim=similarity):\n",
    "    # Get the index of the movie that matches the title\n",
    "    idx = indices_code[book_title]\n",
    "\n",
    "    # Similarity scores\n",
    "    similarity_scores = list(enumerate(cosine_sim[idx]))\n",
    "\n",
    "    # Sort the books based on the similarity scores\n",
    "    similarity_scores = sorted(similarity_scores, key=lambda x: x[1], reverse=True)\n",
    "\n",
    "    # Get the scores of the six most similar books\n",
    "    similarity_scores = similarity_scores[1:6]\n",
    "\n",
    "    # Get the book indices\n",
    "    book_indices = [i[0] for i in similarity_scores]\n",
    "\n",
    "    # Return the top 10 most similar books\n",
    "    return pre_dataframe['Book-Title'].iloc[book_indices]"
   ],
   "metadata": {
    "collapsed": false,
    "pycharm": {
     "name": "#%%\n"
    }
   }
  },
  {
   "cell_type": "code",
   "execution_count": 117,
   "outputs": [
    {
     "data": {
      "text/plain": "12                         Walk Two Moons\n13                      A Wrinkle In Time\n14    Artemis Fowl (Artemis Fowl, Book 1)\n29                        Charlotte's Web\n31                               Coraline\nName: Book-Title, dtype: object"
     },
     "execution_count": 117,
     "metadata": {},
     "output_type": "execute_result"
    }
   ],
   "source": [
    "get_recommendations(\"Harry Potter and the Sorcerer's Stone (Harry Potter (Paperback))\")"
   ],
   "metadata": {
    "collapsed": false,
    "pycharm": {
     "name": "#%%\n"
    }
   }
  },
  {
   "cell_type": "code",
   "execution_count": 118,
   "outputs": [
    {
     "data": {
      "text/plain": "1               Manhattan Hunt Club\n2                     Dark Paradise\n3                        Night Sins\n4          Little Altars Everywhere\n5    How Stella Got Her Groove Back\nName: Book-Title, dtype: object"
     },
     "execution_count": 118,
     "metadata": {},
     "output_type": "execute_result"
    }
   ],
   "source": [
    "get_recommendations('The Da Vinci Code')"
   ],
   "metadata": {
    "collapsed": false,
    "pycharm": {
     "name": "#%%\n"
    }
   }
  },
  {
   "cell_type": "code",
   "execution_count": null,
   "outputs": [],
   "source": [],
   "metadata": {
    "collapsed": false,
    "pycharm": {
     "name": "#%%\n"
    }
   }
  }
 ],
 "metadata": {
  "kernelspec": {
   "display_name": "Python 3.10.4 ('Univ_Machine_Learning')",
   "language": "python",
   "name": "python3"
  },
  "language_info": {
   "codemirror_mode": {
    "name": "ipython",
    "version": 3
   },
   "file_extension": ".py",
   "mimetype": "text/x-python",
   "name": "python",
   "nbconvert_exporter": "python",
   "pygments_lexer": "ipython3",
   "version": "3.10.4"
  },
  "vscode": {
   "interpreter": {
    "hash": "7c6602f6cc7e8435aa3476c36f824188212d0c07606c2c4831879390ff4ab627"
   }
  }
 },
 "nbformat": 4,
 "nbformat_minor": 0
}