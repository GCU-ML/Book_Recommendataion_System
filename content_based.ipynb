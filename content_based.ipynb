{
 "cells": [
  {
   "cell_type": "code",
   "execution_count": 81,
   "metadata": {
    "collapsed": true
   },
   "outputs": [],
   "source": [
    "import itertools\n",
    "import warnings\n",
    "import numpy as np\n",
    "import pandas as pd\n",
    "import matplotlib.pyplot as plt\n",
    "from sklearn.feature_extraction.text import TfidfVectorizer\n",
    "from sklearn.metrics.pairwise import cosine_similarity\n",
    "\n",
    "warnings.filterwarnings('ignore')\n",
    "\n",
    "# Adjusting for Data Frame Output\n",
    "# pd.set_option('display.max_rows', None)\n",
    "# pd.set_option('display.max_columns', None)\n",
    "# pd.set_option('display.max_colwidth', None)"
   ]
  },
  {
   "cell_type": "code",
   "execution_count": 82,
   "metadata": {
    "collapsed": false
   },
   "outputs": [
    {
     "name": "stdout",
     "output_type": "stream",
     "text": [
      "<class 'pandas.core.frame.DataFrame'>\n",
      "RangeIndex: 1149780 entries, 0 to 1149779\n",
      "Data columns (total 3 columns):\n",
      " #   Column       Non-Null Count    Dtype \n",
      "---  ------       --------------    ----- \n",
      " 0   User-ID      1149780 non-null  int64 \n",
      " 1   ISBN         1149780 non-null  object\n",
      " 2   Book-Rating  1149780 non-null  int64 \n",
      "dtypes: int64(2), object(1)\n",
      "memory usage: 26.3+ MB\n"
     ]
    }
   ],
   "source": [
    "# Read BX-Book-Ratings.csv\n",
    "origin_rating = pd.read_csv('dataset/Book reviews/Book reviews/BX-Book-Ratings.csv',sep=';',encoding=\"latin-1\")\n",
    "origin_rating.info()"
   ]
  },
  {
   "cell_type": "code",
   "execution_count": 83,
   "metadata": {
    "collapsed": false
   },
   "outputs": [
    {
     "name": "stdout",
     "output_type": "stream",
     "text": [
      "<class 'pandas.core.frame.DataFrame'>\n",
      "RangeIndex: 271379 entries, 0 to 271378\n",
      "Data columns (total 3 columns):\n",
      " #   Column       Non-Null Count   Dtype \n",
      "---  ------       --------------   ----- \n",
      " 0   ISBN         271379 non-null  object\n",
      " 1   Book-Title   271379 non-null  object\n",
      " 2   Book-Author  271378 non-null  object\n",
      "dtypes: object(3)\n",
      "memory usage: 6.2+ MB\n"
     ]
    }
   ],
   "source": [
    "# Read BX-Book.csv\n",
    "origin_books = pd.read_csv('dataset/Book reviews/Book reviews/BX_Books.csv', sep=';', encoding=\"latin-1\")\n",
    "origin_books.drop(columns=['Year-Of-Publication', 'Publisher',\n",
    "                  'Image-URL-S', 'Image-URL-M', 'Image-URL-L'], inplace=True)\n",
    "origin_books.info()\n"
   ]
  },
  {
   "cell_type": "code",
   "execution_count": 84,
   "metadata": {},
   "outputs": [
    {
     "name": "stdout",
     "output_type": "stream",
     "text": [
      "<class 'pandas.core.frame.DataFrame'>\n",
      "Int64Index: 270170 entries, 0 to 1031174\n",
      "Data columns (total 2 columns):\n",
      " #   Column    Non-Null Count   Dtype \n",
      "---  ------    --------------   ----- \n",
      " 0   ISBN      270170 non-null  object\n",
      " 1   Category  270170 non-null  object\n",
      "dtypes: object(2)\n",
      "memory usage: 6.2+ MB\n"
     ]
    }
   ],
   "source": [
    "# Read Preprocessed_data.csv\n",
    "origin_preprocessed = pd.read_csv(\n",
    "    'dataset/Books Data with Category Language and Summary/Preprocessed_data.csv', sep=',', encoding=\"latin-1\")\n",
    "origin_preprocessed = origin_preprocessed.loc[:, ['isbn', 'Category']]\n",
    "origin_preprocessed.rename(columns={'isbn': 'ISBN'}, inplace=True)\n",
    "origin_preprocessed.drop_duplicates(inplace=True)\n",
    "origin_preprocessed.info()\n"
   ]
  },
  {
   "cell_type": "code",
   "execution_count": 85,
   "metadata": {},
   "outputs": [
    {
     "name": "stdout",
     "output_type": "stream",
     "text": [
      "<class 'pandas.core.frame.DataFrame'>\n",
      "Int64Index: 1031175 entries, 0 to 1031174\n",
      "Data columns (total 5 columns):\n",
      " #   Column       Non-Null Count    Dtype \n",
      "---  ------       --------------    ----- \n",
      " 0   User-ID      1031175 non-null  int64 \n",
      " 1   ISBN         1031175 non-null  object\n",
      " 2   Book-Rating  1031175 non-null  int64 \n",
      " 3   Book-Title   1031175 non-null  object\n",
      " 4   Book-Author  1031174 non-null  object\n",
      "dtypes: int64(2), object(3)\n",
      "memory usage: 47.2+ MB\n"
     ]
    }
   ],
   "source": [
    "# Merge 'origin_books' data and 'origin_rating' data about ISBN\n",
    "user_book_rating=pd.merge(origin_rating,origin_books,on=\"ISBN\")\n",
    "user_book_rating.info()"
   ]
  },
  {
   "cell_type": "code",
   "execution_count": 86,
   "metadata": {},
   "outputs": [
    {
     "data": {
      "text/plain": [
       "User-ID        0\n",
       "ISBN           0\n",
       "Book-Rating    0\n",
       "Book-Title     0\n",
       "Book-Author    1\n",
       "dtype: int64"
      ]
     },
     "execution_count": 86,
     "metadata": {},
     "output_type": "execute_result"
    }
   ],
   "source": [
    "# Check null data\n",
    "user_book_rating.isnull().sum()"
   ]
  },
  {
   "cell_type": "code",
   "execution_count": 87,
   "metadata": {},
   "outputs": [
    {
     "name": "stdout",
     "output_type": "stream",
     "text": [
      "<class 'pandas.core.frame.DataFrame'>\n",
      "Int64Index: 1031174 entries, 0 to 1031174\n",
      "Data columns (total 5 columns):\n",
      " #   Column       Non-Null Count    Dtype \n",
      "---  ------       --------------    ----- \n",
      " 0   User-ID      1031174 non-null  int64 \n",
      " 1   ISBN         1031174 non-null  object\n",
      " 2   Book-Rating  1031174 non-null  int64 \n",
      " 3   Book-Title   1031174 non-null  object\n",
      " 4   Book-Author  1031174 non-null  object\n",
      "dtypes: int64(2), object(3)\n",
      "memory usage: 47.2+ MB\n"
     ]
    }
   ],
   "source": [
    "# drop null data\n",
    "user_book_rating.dropna(inplace=True)\n",
    "user_book_rating.info()"
   ]
  },
  {
   "cell_type": "code",
   "execution_count": 88,
   "metadata": {},
   "outputs": [
    {
     "name": "stdout",
     "output_type": "stream",
     "text": [
      "<class 'pandas.core.frame.DataFrame'>\n",
      "Int64Index: 234876 entries, 0 to 710818\n",
      "Data columns (total 5 columns):\n",
      " #   Column       Non-Null Count   Dtype \n",
      "---  ------       --------------   ----- \n",
      " 0   User-ID      234876 non-null  int64 \n",
      " 1   ISBN         234876 non-null  object\n",
      " 2   Book-Rating  234876 non-null  int64 \n",
      " 3   Book-Title   234876 non-null  object\n",
      " 4   Book-Author  234876 non-null  object\n",
      "dtypes: int64(2), object(3)\n",
      "memory usage: 10.8+ MB\n"
     ]
    }
   ],
   "source": [
    "# Calculate rating count each ISBN\n",
    "book_ratingCount = (user_book_rating.groupby(by=['ISBN'])\n",
    "                    ['Book-Rating'].\n",
    "                    count().\n",
    "                    reset_index().\n",
    "                    rename(columns={'Book-Rating': 'TotalRatingCount'})\n",
    "                    )\n",
    "\n",
    "user_book_rating=pd.merge(user_book_rating,book_ratingCount,on=\"ISBN\")\n",
    "\n",
    "# Delete data about rating count under 50\n",
    "ratingTreshold = 50\n",
    "user_book_rating = user_book_rating.query('TotalRatingCount >= @ratingTreshold')\n",
    "user_book_rating.drop(columns='TotalRatingCount',inplace=True)\n",
    "user_book_rating.info()"
   ]
  },
  {
   "cell_type": "code",
   "execution_count": 89,
   "metadata": {},
   "outputs": [],
   "source": [
    "# Preprocessing 'Category' column\n",
    "origin_preprocessed[\"Category\"] = origin_preprocessed[\"Category\"].str.replace(\n",
    "    '[', '')\n",
    "origin_preprocessed[\"Category\"] = origin_preprocessed[\"Category\"].str.replace(\n",
    "    ']', '')\n",
    "origin_preprocessed[\"Category\"] = origin_preprocessed[\"Category\"].str.replace(\n",
    "    '\\'', '')\n",
    "origin_preprocessed[\"Category\"] = origin_preprocessed[\"Category\"].str.replace(\n",
    "    '\\\"', '')\n",
    "origin_preprocessed[\"Category\"] = origin_preprocessed[\"Category\"].str.replace(\n",
    "    '-', '_')\n",
    "origin_preprocessed[\"Category\"] = origin_preprocessed[\"Category\"].str.replace(\n",
    "    ', ', ',')\n",
    "origin_preprocessed[\"Category\"] = origin_preprocessed[\"Category\"].str.replace(\n",
    "    ' & ', '_')\n",
    "origin_preprocessed[\"Category\"] = origin_preprocessed[\"Category\"].str.replace(\n",
    "    ' : ', '_')\n",
    "origin_preprocessed[\"Category\"] = origin_preprocessed[\"Category\"].str.replace(\n",
    "    ' ', '_')\n",
    "\n",
    "\n",
    "# Strange category value '9' delete\n",
    "delte = origin_preprocessed[origin_preprocessed['Category'] == '9'].index\n",
    "origin_preprocessed.drop(delte, inplace=True)\n",
    "\n",
    "# # Extract Category data\n",
    "# category = list(set(origin_preprocessed['Category'].to_list()))\n",
    "\n",
    "# # Extract User-ID data\n",
    "# isbn = list(set(user_book_rating['ISBN'].to_list()))"
   ]
  },
  {
   "cell_type": "code",
   "execution_count": 90,
   "metadata": {},
   "outputs": [
    {
     "data": {
      "text/plain": [
       "array([['195153448', '2005018', '60973129', ..., '743203763',\n",
       "        '767907566', '912333022'],\n",
       "       ['Social_Science', 'Actresses', '1940_1949', ..., 'Humor',\n",
       "        'Nature', 'Fiction']], dtype=object)"
      ]
     },
     "execution_count": 90,
     "metadata": {},
     "output_type": "execute_result"
    }
   ],
   "source": [
    "df = origin_preprocessed.copy()\n",
    "df.set_index('ISBN')\n",
    "df = df.T\n",
    "df = df.to_numpy()\n",
    "df"
   ]
  },
  {
   "cell_type": "code",
   "execution_count": 91,
   "metadata": {},
   "outputs": [],
   "source": [
    "tvec = TfidfVectorizer(min_df=10)\n",
    "transformed_weights = tvec.fit_transform(list(df[1]))"
   ]
  },
  {
   "cell_type": "code",
   "execution_count": 93,
   "metadata": {},
   "outputs": [],
   "source": [
    "display(pd.DataFrame(transformed_weights.toarray(), columns=tvec.get_feature_names_out(),\n",
    "                                   index=df[0]))"
   ]
  },
  {
   "cell_type": "code",
   "execution_count": 105,
   "metadata": {},
   "outputs": [],
   "source": [
    "# Cosine similarity (query, documents)\n",
    "similarity = cosine_similarity(transformed_weights[0], transformed_weights[1:])\n",
    "similarity = pd.DataFrame(similarity, index=['Similarity'],columns=df[0,1:])\n"
   ]
  },
  {
   "cell_type": "code",
   "execution_count": 106,
   "metadata": {},
   "outputs": [
    {
     "data": {
      "text/html": [
       "<div>\n",
       "<style scoped>\n",
       "    .dataframe tbody tr th:only-of-type {\n",
       "        vertical-align: middle;\n",
       "    }\n",
       "\n",
       "    .dataframe tbody tr th {\n",
       "        vertical-align: top;\n",
       "    }\n",
       "\n",
       "    .dataframe thead th {\n",
       "        text-align: right;\n",
       "    }\n",
       "</style>\n",
       "<table border=\"1\" class=\"dataframe\">\n",
       "  <thead>\n",
       "    <tr style=\"text-align: right;\">\n",
       "      <th></th>\n",
       "      <th>517884976</th>\n",
       "      <th>691017778</th>\n",
       "      <th>452283779</th>\n",
       "      <th>679450378</th>\n",
       "      <th>155001965</th>\n",
       "      <th>743452933</th>\n",
       "      <th>671505998</th>\n",
       "      <th>773509534</th>\n",
       "      <th>60924594</th>\n",
       "      <th>967943302</th>\n",
       "      <th>...</th>\n",
       "      <th>688167519</th>\n",
       "      <th>688159311</th>\n",
       "      <th>688080731</th>\n",
       "      <th>684842319</th>\n",
       "      <th>671708317</th>\n",
       "      <th>055380121X</th>\n",
       "      <th>525484612</th>\n",
       "      <th>517556715</th>\n",
       "      <th>517539586</th>\n",
       "      <th>912333022</th>\n",
       "    </tr>\n",
       "  </thead>\n",
       "  <tbody>\n",
       "    <tr>\n",
       "      <th>Similarity</th>\n",
       "      <td>1.0</td>\n",
       "      <td>1.0</td>\n",
       "      <td>1.0</td>\n",
       "      <td>1.0</td>\n",
       "      <td>1.0</td>\n",
       "      <td>1.0</td>\n",
       "      <td>1.0</td>\n",
       "      <td>1.0</td>\n",
       "      <td>1.0</td>\n",
       "      <td>1.0</td>\n",
       "      <td>...</td>\n",
       "      <td>0.0</td>\n",
       "      <td>0.0</td>\n",
       "      <td>0.0</td>\n",
       "      <td>0.0</td>\n",
       "      <td>0.0</td>\n",
       "      <td>0.0</td>\n",
       "      <td>0.0</td>\n",
       "      <td>0.0</td>\n",
       "      <td>0.0</td>\n",
       "      <td>0.0</td>\n",
       "    </tr>\n",
       "  </tbody>\n",
       "</table>\n",
       "<p>1 rows × 138700 columns</p>\n",
       "</div>"
      ],
      "text/plain": [
       "            517884976  691017778  452283779  679450378  155001965  743452933  \\\n",
       "Similarity        1.0        1.0        1.0        1.0        1.0        1.0   \n",
       "\n",
       "            671505998  773509534  60924594  967943302  ...  688167519  \\\n",
       "Similarity        1.0        1.0       1.0        1.0  ...        0.0   \n",
       "\n",
       "            688159311  688080731  684842319  671708317  055380121X  525484612  \\\n",
       "Similarity        0.0        0.0        0.0        0.0         0.0        0.0   \n",
       "\n",
       "            517556715  517539586  912333022  \n",
       "Similarity        0.0        0.0        0.0  \n",
       "\n",
       "[1 rows x 138700 columns]"
      ]
     },
     "metadata": {},
     "output_type": "display_data"
    }
   ],
   "source": [
    "display(similarity.T.sort_values(by='Similarity', ascending=False).T)"
   ]
  },
  {
   "cell_type": "code",
   "execution_count": null,
   "metadata": {},
   "outputs": [],
   "source": []
  }
 ],
 "metadata": {
  "kernelspec": {
   "display_name": "Python 3.10.4 ('Univ_Machine_Learning')",
   "language": "python",
   "name": "python3"
  },
  "language_info": {
   "codemirror_mode": {
    "name": "ipython",
    "version": 3
   },
   "file_extension": ".py",
   "mimetype": "text/x-python",
   "name": "python",
   "nbconvert_exporter": "python",
   "pygments_lexer": "ipython3",
   "version": "3.10.4"
  },
  "vscode": {
   "interpreter": {
    "hash": "7c6602f6cc7e8435aa3476c36f824188212d0c07606c2c4831879390ff4ab627"
   }
  }
 },
 "nbformat": 4,
 "nbformat_minor": 0
}
